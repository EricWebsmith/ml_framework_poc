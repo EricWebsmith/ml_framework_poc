{
 "cells": [
  {
   "cell_type": "markdown",
   "metadata": {},
   "source": [
    "/projects/ml_framework_poc/py/tatanic.csv\n",
    "\n",
    "Pclass,Sex,SibSp,Parch,Fare\n",
    "\n",
    "Survived\n"
   ]
  },
  {
   "cell_type": "code",
   "execution_count": 5,
   "metadata": {},
   "outputs": [],
   "source": [
    "import json"
   ]
  },
  {
   "cell_type": "code",
   "execution_count": 6,
   "metadata": {},
   "outputs": [],
   "source": [
    "config=json.load(open(\"config.json\"))"
   ]
  },
  {
   "cell_type": "code",
   "execution_count": 7,
   "metadata": {},
   "outputs": [],
   "source": [
    "def my_import(name):\n",
    "    components = name.split('.')\n",
    "    mod = __import__(components[0])\n",
    "    for comp in components[1:]:\n",
    "        mod = getattr(mod, comp)\n",
    "    return mod"
   ]
  },
  {
   "cell_type": "code",
   "execution_count": 8,
   "metadata": {},
   "outputs": [
    {
     "name": "stdout",
     "output_type": "stream",
     "text": [
      "{'class': 'tf_modules.CsvImporter', 'mod_config': {'filepath': '/projects/ml_framework_poc/py/tatanic.csv', 'classname': 'tf_modules.CsvImporter', 'name': ''}}\n",
      "{'class': 'tf_modules.OrdinalEncoder', 'mod_config': {'columns': 'Sex', 'classname': 'tf_modules.OrdinalEncoder', 'name': ''}}\n",
      "{'class': 'tf_modules.LogisticRegressor', 'mod_config': {'features': 'Pclass,Sex,SibSp,Parch,Fare', 'label': 'Survived', 'model_path': 'lr.model', 'classname': 'tf_modules.LogisticRegressor', 'name': ''}}\n",
      "score 0.7847533632286996\n"
     ]
    }
   ],
   "source": [
    "inputs = {}\n",
    "results = []\n",
    "for step in config['pipepline']:\n",
    "    print(step)\n",
    "    the_class=my_import(step[\"class\"])\n",
    "    obj=the_class()\n",
    "    mod_config = step['mod_config']\n",
    "    inputs=obj.execute(inputs, mod_config)\n",
    "    results.append(inputs['data'])"
   ]
  },
  {
   "cell_type": "code",
   "execution_count": null,
   "metadata": {},
   "outputs": [],
   "source": []
  }
 ],
 "metadata": {
  "kernelspec": {
   "display_name": "Python 3",
   "language": "python",
   "name": "python3"
  },
  "language_info": {
   "codemirror_mode": {
    "name": "ipython",
    "version": 3
   },
   "file_extension": ".py",
   "mimetype": "text/x-python",
   "name": "python",
   "nbconvert_exporter": "python",
   "pygments_lexer": "ipython3",
   "version": "3.8.3"
  }
 },
 "nbformat": 4,
 "nbformat_minor": 4
}
