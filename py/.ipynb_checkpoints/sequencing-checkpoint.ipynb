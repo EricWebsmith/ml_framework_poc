{
 "cells": [
  {
   "cell_type": "code",
   "execution_count": 1,
   "metadata": {},
   "outputs": [],
   "source": [
    "config={\n",
    "    \"model_id\":\"13254654\",\n",
    "    \"model_name\":\"rnn1\",\n",
    "    \"pipepline\":\n",
    "    [\n",
    "        {\"class\":\"tf_modules.CsvImporter\",\"mod_config\":{\"file_path\":\"/projects/ml_framework_poc/data/sarcasm.csv\"}},\n",
    "        {\"class\":\"tf_modules.Sequencer\",\"mod_config\":{\"col\":\"sentence\",\"oov_token\":\"<oov>\"}},\n",
    "        {\"class\":\"tf_modules.Padder\",\"mod_config\":{\"padding\":\"post\", \"maxlen\":30}},\n",
    "        {\"class\":\"tf_modules.CsvExporter\",\"mod_config\":{\"file_path\":\"/projects/ml_framework_poc/data/sarcasm_seq.csv\"}}\n",
    "    ]}"
   ]
  },
  {
   "cell_type": "code",
   "execution_count": 2,
   "metadata": {},
   "outputs": [],
   "source": [
    "def my_import(name):\n",
    "    components = name.split('.')\n",
    "    mod = __import__(components[0])\n",
    "    for comp in components[1:]:\n",
    "        mod = getattr(mod, comp)\n",
    "    return mod"
   ]
  },
  {
   "cell_type": "code",
   "execution_count": 3,
   "metadata": {},
   "outputs": [
    {
     "name": "stdout",
     "output_type": "stream",
     "text": [
      "{'class': 'tf_modules.CsvImporter', 'mod_config': {'file_path': '/projects/ml_framework_poc/data/sarcasm.csv'}}\n",
      "{'class': 'tf_modules.Sequencer', 'mod_config': {'col': 'sentence', 'oov_token': '<oov>'}}\n",
      "{'class': 'tf_modules.Padder', 'mod_config': {'padding': 'post', 'maxlen': 30}}\n",
      "{'class': 'tf_modules.CsvExporter', 'mod_config': {'file_path': '/projects/ml_framework_poc/data/sarcasm_seq.csv'}}\n"
     ]
    }
   ],
   "source": [
    "inputs = {}\n",
    "for step in config['pipepline']:\n",
    "    print(step)\n",
    "    the_class=my_import(step[\"class\"])\n",
    "    obj=the_class()\n",
    "    mod_config = step['mod_config']\n",
    "    inputs=obj.execute(inputs, mod_config)"
   ]
  },
  {
   "cell_type": "code",
   "execution_count": null,
   "metadata": {},
   "outputs": [],
   "source": []
  }
 ],
 "metadata": {
  "kernelspec": {
   "display_name": "Python 3",
   "language": "python",
   "name": "python3"
  },
  "language_info": {
   "codemirror_mode": {
    "name": "ipython",
    "version": 3
   },
   "file_extension": ".py",
   "mimetype": "text/x-python",
   "name": "python",
   "nbconvert_exporter": "python",
   "pygments_lexer": "ipython3",
   "version": "3.7.6"
  }
 },
 "nbformat": 4,
 "nbformat_minor": 4
}
