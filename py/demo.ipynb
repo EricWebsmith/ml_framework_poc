{
 "cells": [
  {
   "cell_type": "markdown",
   "metadata": {},
   "source": [
    "/projects/ml_framework_poc/py/tatanic.csv\n",
    "\n",
    "Pclass,Sex,SibSp,Parch,Fare\n",
    "\n",
    "Survived\n"
   ]
  },
  {
   "cell_type": "code",
   "execution_count": 1,
   "metadata": {},
   "outputs": [],
   "source": [
    "import json"
   ]
  },
  {
   "cell_type": "code",
   "execution_count": 2,
   "metadata": {},
   "outputs": [],
   "source": [
    "config=json.load(open(\"config.json\"))"
   ]
  },
  {
   "cell_type": "code",
   "execution_count": 3,
   "metadata": {},
   "outputs": [],
   "source": [
    "def my_import(name):\n",
    "    components = name.split('.')\n",
    "    mod = __import__(components[0])\n",
    "    for comp in components[1:]:\n",
    "        mod = getattr(mod, comp)\n",
    "    return mod"
   ]
  },
  {
   "cell_type": "code",
   "execution_count": 4,
   "metadata": {},
   "outputs": [
    {
     "name": "stdout",
     "output_type": "stream",
     "text": [
      "{'class': 'ml_modules.CsvImporter', 'mod_config': {'filepath': 'tatanic.csv', 'classname': 'ml_modules.CsvImporter', 'name': ''}}\n",
      "{'class': 'ml_modules.CsvExporter', 'mod_config': {'filepath': 'tatanic3.csv', 'classname': 'ml_modules.CsvExporter', 'name': ''}}\n"
     ]
    }
   ],
   "source": [
    "inputs = {}\n",
    "results = []\n",
    "for step in config['pipepline']:\n",
    "    print(step)\n",
    "    the_class=my_import(step[\"class\"])\n",
    "    obj=the_class()\n",
    "    mod_config = step['mod_config']\n",
    "    inputs=obj.execute(inputs, mod_config)\n",
    "    results.append(inputs['data'])"
   ]
  },
  {
   "cell_type": "code",
   "execution_count": null,
   "metadata": {},
   "outputs": [],
   "source": []
  }
 ],
 "metadata": {
  "kernelspec": {
   "display_name": "Python 3",
   "language": "python",
   "name": "python3"
  },
  "language_info": {
   "codemirror_mode": {
    "name": "ipython",
    "version": 3
   },
   "file_extension": ".py",
   "mimetype": "text/x-python",
   "name": "python",
   "nbconvert_exporter": "python",
   "pygments_lexer": "ipython3",
   "version": "3.8.3"
  }
 },
 "nbformat": 4,
 "nbformat_minor": 4
}
