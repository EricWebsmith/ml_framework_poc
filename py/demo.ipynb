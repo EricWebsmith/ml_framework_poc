{
 "cells": [
  {
   "cell_type": "markdown",
   "metadata": {},
   "source": [
    "/projects/ml_framework_poc/py/tatanic.csv\n",
    "\n",
    "Pclass,Sex,SibSp,Parch,Fare\n",
    "\n",
    "Survived\n"
   ]
  },
  {
   "cell_type": "markdown",
   "metadata": {},
   "source": [
    "{'class': 'ml_nodes.CsvImporter', 'filepath': 'tatanic.csv', 'classname': 'ml_nodes.CsvImporter', 'name': ''}\n",
    "\n",
    "{'class': 'ml_nodes.OrdinalEncoder', 'columns': 'Embarked,Sex', 'classname': 'ml_nodes.OrdinalEncoder', 'name': ''}\n",
    "\n",
    "{'class': 'ml_nodes.LinearRegressor', 'model_path': 'model', 'fit_intercept': 'False', 'classname': 'ml_nodes.LinearRegressor', 'traintestsplit': '0', 'features': 'Pclass,Sex,SibSp,Parch,Fare,Embarked', 'label': 'Survived', 'name': ''}\n",
    "\n",
    "score 0.31396073198692664"
   ]
  },
  {
   "cell_type": "code",
   "execution_count": 15,
   "metadata": {},
   "outputs": [],
   "source": [
    "import json"
   ]
  },
  {
   "cell_type": "code",
   "execution_count": 16,
   "metadata": {},
   "outputs": [],
   "source": [
    "config=json.load(open(\"config.json\"))"
   ]
  },
  {
   "cell_type": "code",
   "execution_count": 17,
   "metadata": {},
   "outputs": [],
   "source": [
    "def my_import(name):\n",
    "    components = name.split('.')\n",
    "    mod = __import__(components[0])\n",
    "    for comp in components[1:]:\n",
    "        mod = getattr(mod, comp)\n",
    "    return mod"
   ]
  },
  {
   "cell_type": "code",
   "execution_count": 18,
   "metadata": {},
   "outputs": [
    {
     "name": "stdout",
     "output_type": "stream",
     "text": [
      "{'class': 'ml_nodes.CsvImporter', 'filepath': 'tatanic.csv', 'classname': 'ml_nodes.CsvImporter', 'name': ''}\n",
      "{'class': 'ml_nodes.OrdinalEncoder', 'columns': 'Embarked,Sex', 'classname': 'ml_nodes.OrdinalEncoder', 'name': ''}\n",
      "{'class': 'ml_nodes.LogisticRegressor', 'features': 'Pclass,Sex,SibSp,Parch,Fare,Embarked', 'label': 'Survived', 'model_path': 'm4', 'classname': 'ml_nodes.LogisticRegressor', 'traintestsplit': '0', 'name': ''}\n",
      "score 0.7713004484304933\n"
     ]
    }
   ],
   "source": [
    "inputs = {}\n",
    "results = []\n",
    "for node_config in config['pipepline']:\n",
    "    print(node_config)\n",
    "    the_class=my_import(node_config[\"class\"])\n",
    "    obj=the_class()\n",
    "    inputs=obj.execute(inputs, node_config)\n",
    "    results.append(inputs['data'])"
   ]
  },
  {
   "cell_type": "code",
   "execution_count": null,
   "metadata": {},
   "outputs": [],
   "source": []
  }
 ],
 "metadata": {
  "kernelspec": {
   "display_name": "Python 3",
   "language": "python",
   "name": "python3"
  },
  "language_info": {
   "codemirror_mode": {
    "name": "ipython",
    "version": 3
   },
   "file_extension": ".py",
   "mimetype": "text/x-python",
   "name": "python",
   "nbconvert_exporter": "python",
   "pygments_lexer": "ipython3",
   "version": "3.8.3"
  }
 },
 "nbformat": 4,
 "nbformat_minor": 4
}
